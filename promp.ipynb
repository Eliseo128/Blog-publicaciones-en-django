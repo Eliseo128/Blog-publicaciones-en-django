{
 "cells": [
  {
   "cell_type": "markdown",
   "source": [
    "# 📚 Guía Paso a Paso: Crear un Proyecto Básico en Django\n",
    "\n",
    "**Dirigido a estudiantes de preparatoria**\n",
    "\n",
    "**Nivel**: Principiante\n",
    "\n",
    "**Sistema operativo**: Windows\n",
    "\n",
    "Esta guía te ayudará a crear tu primer proyecto en Django: un blog simple.\n",
    "\n",
    "✅ Requisitos:\n",
    "- Python 3.6+\n",
    "- Visual Studio Code\n",
    "- Conexión a internet"
   ],
   "metadata": {}
  },
  {
   "cell_type": "markdown",
   "source": [
    "## 🔹 Paso 1: Abrir la consola \"cmd\" de Windows\n",
    "\n",
    "1. Presiona la tecla **Windows** del teclado.\n",
    "2. Escribe: `cmd`\n",
    "3. Haz clic en **Símbolo del sistema** o **Command Prompt**.\n",
    "\n",
    "📌 Esto abrirá la terminal de Windows."
   ],
   "metadata": {}
  },
  {
   "cell_type": "markdown",
   "source": [
    "## 🔹 Paso 2: Crear carpeta de trabajo `Guia_Django`\n",
    "\n",
    "En la terminal, escribe:\n",
    "\n",
    "```bash\n",
    "mkdir Guia_Django\n",
    "cd Guia_Django\n",
    "```"
   ],
   "metadata": {}
  },
  {
   "cell_type": "markdown",
   "source": [
    "## 🔹 Paso 3: Abrir VS Code desde la terminal\n",
    "\n",
    "Dentro de la carpeta `Guia_Django`, escribe:\n",
    "\n",
    "```bash\n",
    "code .\n",
    "```\n",
    "\n",
    "📌 Esto abrirá VS Code en la carpeta actual."
   ],
   "metadata": {}
  },
  {
   "cell_type": "markdown",
   "source": [
    "## 🔹 Paso 4: Abrir terminal de VS Code\n",
    "\n",
    "1. En VS Code, haz clic en el menú **Terminal**.\n",
    "2. Selecciona **Nuevo terminal**.\n",
    "\n",
    "📌 Ahora puedes ejecutar comandos dentro del editor."
   ],
   "metadata": {}
  },
  {
   "cell_type": "markdown",
   "source": [
    "## 🔹 Paso 5: Ver versión de Python\n",
    "\n",
    "Escribe en la terminal:\n",
    "\n",
    "```bash\n",
    "python --version\n",
    "```\n",
    "\n",
    "📌 Debe mostrar algo como `Python 3.x.x`. Si no, instala Python desde [python.org](https://www.python.org/downloads/)."
   ],
   "metadata": {}
  },
  {
   "cell_type": "markdown",
   "source": [
    "## 🔹 Paso 6: Crear entorno virtual `.venv`\n",
    "\n",
    "```bash\n",
    "python -m venv .venv\n",
    "```\n",
    "\n",
    "📌 Se crea una carpeta `.venv` con tu entorno aislado."
   ],
   "metadata": {}
  },
  {
   "cell_type": "markdown",
   "source": [
    "## 🔹 Paso 7: Activar el entorno virtual\n",
    "\n",
    "```bash\n",
    ".venv\\Scripts\\activate\n",
    "```\n",
    "\n",
    "📌 Verás `(.venv)` al inicio de la línea. ¡Estás listo!"
   ],
   "metadata": {}
  },
  {
   "cell_type": "markdown",
   "source": [
    "## 🔹 Paso 8: Instalar Django\n",
    "\n",
    "```bash\n",
    "pip install django\n",
    "```\n",
    "\n",
    "📌 Espera a que termine la instalación."
   ],
   "metadata": {}
  },
  {
   "cell_type": "markdown",
   "source": [
    "## 🔹 Paso 9: Ver herramientas disponibles de Django\n",
    "\n",
    "```bash\n",
    "django-admin --help\n",
    "```\n",
    "\n",
    "📌 Verás todos los comandos que puedes usar con Django."
   ],
   "metadata": {}
  },
  {
   "cell_type": "markdown",
   "source": [
    "## 🔹 Paso 10: Crear el proyecto `backend_blog` (sin duplicar carpetas)\n",
    "\n",
    "```bash\n",
    "django-admin startproject backend_blog .\n",
    "```\n",
    "\n",
    "📌 El punto `.` evita crear una carpeta extra."
   ],
   "metadata": {}
  },
  {
   "cell_type": "markdown",
   "source": [
    "## 🔹 Paso 11: Estructura del proyecto\n",
    "\n",
    "Después de crear el proyecto, tu estructura debe verse así:\n",
    "\n",
    "```\n",
    "Guia_Django/\n",
    "├── .venv/\n",
    "├── backend_blog/\n",
    "│   ├── __init__.py\n",
    "│   ├── settings.py\n",
    "│   ├── urls.py\n",
    "│   └── wsgi.py\n",
    "├── manage.py\n",
    "```\n",
    "\n",
    "📌 `manage.py` es clave para ejecutar comandos."
   ],
   "metadata": {}
  },
  {
   "cell_type": "markdown",
   "source": [
    "## 🔹 Paso 12: Ejecutar el servidor Django\n",
    "\n",
    "```bash\n",
    "python manage.py runserver\n",
    "```\n",
    "\n",
    "📌 El servidor se inicia en `http://127.0.0.1:8000`"
   ],
   "metadata": {}
  },
  {
   "cell_type": "markdown",
   "source": [
    "## 🔹 Paso 13: Ver la página de bienvenida\n",
    "\n",
    "Abre tu navegador y visita:\n",
    "\n",
    "```\n",
    "http://127.0.0.1:8000\n",
    "```\n",
    "\n",
    "✅ Deberás ver: \"The install worked successfully!\""
   ],
   "metadata": {}
  },
  {
   "cell_type": "markdown",
   "source": [
    "## 🔹 Paso 14: Detener el servidor\n",
    "\n",
    "Presiona en la terminal:\n",
    "\n",
    "```\n",
    "Ctrl + C\n",
    "```\n",
    "\n",
    "📌 El servidor se detiene."
   ],
   "metadata": {}
  },
  {
   "cell_type": "markdown",
   "source": [
    "## 🔹 Paso 15: Crear la aplicación `app_blog`\n",
    "\n",
    "```bash\n",
    "python manage.py startapp app_blog\n",
    "```\n",
    "\n",
    "📌 Se crea la carpeta `app_blog` con los archivos necesarios."
   ],
   "metadata": {}
  },
  {
   "cell_type": "markdown",
   "source": [
    "## 🔹 Paso 16: Estructura completa del proyecto\n",
    "\n",
    "```\n",
    "Guia_Django/\n",
    "├── .venv/\n",
    "├── backend_blog/\n",
    "│   ├── settings.py\n",
    "│   ├── urls.py\n",
    "│   └── ...\n",
    "├── app_blog/\n",
    "│   ├── migrations/\n",
    "│   ├── models.py\n",
    "│   ├── views.py\n",
    "│   ├── admin.py\n",
    "│   └── ...\n",
    "├── manage.py\n",
    "```\n",
    "\n",
    "📌 Tu app está lista para usarse."
   ],
   "metadata": {}
  },
  {
   "cell_type": "markdown",
   "source": [
    "## 🔹 Paso 17: Agregar `app_blog` en `settings.py`\n",
    "\n",
    "Abre `backend_blog/settings.py` y en `INSTALLED_APPS`, agrega:\n",
    "\n",
    "```python\n",
    "INSTALLED_APPS = [\n",
    "    'django.contrib.admin',\n",
    "    'django.contrib.auth',\n",
    "    'django.contrib.contenttypes',\n",
    "    'django.contrib.sessions',\n",
    "    'django.contrib.messages',\n",
    "    'django.contrib.staticfiles',\n",
    "    'app_blog',  # ← Añade esta línea\n",
    "]\n",
    "```"
   ],
   "metadata": {}
  },
  {
   "cell_type": "markdown",
   "source": [
    "## 🔹 Paso 18: Crear vista basada en función\n",
    "\n",
    "Abre `app_blog/views.py` y escribe:\n",
    "\n",
    "```python\n",
    "from django.http import HttpResponse\n",
    "\n",
    "def index(request):\n",
    "    return HttpResponse(\"<h1>Bienvenido al Blog</h1>\")\n",
    "```"
   ],
   "metadata": {}
  },
  {
   "cell_type": "markdown",
   "source": [
    "## 🔹 Paso 19: Crear `urls.py` en `app_blog`\n",
    "\n",
    "Crea un nuevo archivo: `app_blog/urls.py`"
   ],
   "metadata": {}
  },
  {
   "cell_type": "markdown",
   "source": [
    "## 🔹 Paso 20: Código de `app_blog/urls.py`\n",
    "\n",
    "```python\n",
    "from django.urls import path\n",
    "from . import views\n",
    "\n",
    "urlpatterns = [\n",
    "    path('', views.index, name='index'),\n",
    "]\n",
    "```"
   ],
   "metadata": {}
  },
  {
   "cell_type": "markdown",
   "source": [
    "## 🔹 Paso 21: Incluir `app_blog.urls` en `backend_blog/urls.py`\n",
    "\n",
    "Modifica `backend_blog/urls.py`:\n",
    "\n",
    "```python\n",
    "from django.contrib import admin\n",
    "from django.urls import path, include\n",
    "\n",
    "urlpatterns = [\n",
    "    path('admin/', admin.site.urls),\n",
    "    path('', include('app_blog.urls')),\n",
    "]\n",
    "```"
   ],
   "metadata": {}
  },
  {
   "cell_type": "markdown",
   "source": [
    "## 🔹 Paso 22: Ejecutar el servidor\n",
    "\n",
    "```bash\n",
    "python manage.py runserver\n",
    "```\n",
    "\n",
    "Visita `http://127.0.0.1:8000` y verás el mensaje."
   ],
   "metadata": {}
  },
  {
   "cell_type": "markdown",
   "source": [
    "## 🔹 Paso 23: Detener el servidor\n",
    "\n",
    "```\n",
    "Ctrl + C\n",
    "```"
   ],
   "metadata": {}
  },
  {
   "cell_type": "markdown",
   "source": [
    "## 🔹 Paso 24: Crear el modelo `Publicacion`\n",
    "\n",
    "En `app_blog/models.py`:\n",
    "\n",
    "```python\n",
    "from django.db import models\n",
    "\n",
    "class Publicacion(models.Model):\n",
    "    titulo = models.CharField(max_length=200)\n",
    "    contenido = models.TextField()\n",
    "    fecha_de_creacion = models.DateTimeField(auto_now_add=True)\n",
    "\n",
    "    def __str__(self):\n",
    "        return self.titulo\n",
    "```"
   ],
   "metadata": {}
  },
  {
   "cell_type": "markdown",
   "source": [
    "## 🔹 Paso 25: Realizar migraciones\n",
    "\n",
    "```bash\n",
    "python manage.py makemigrations\n",
    "```\n",
    "\n",
    "📌 Crea el archivo de migración."
   ],
   "metadata": {}
  },
  {
   "cell_type": "markdown",
   "source": [
    "## 🔹 Paso 26: Migrar (aplicar cambios)\n",
    "\n",
    "```bash\n",
    "python manage.py migrate\n",
    "```\n",
    "\n",
    "📌 La base de datos ahora tiene la tabla `Publicacion`."
   ],
   "metadata": {}
  },
  {
   "cell_type": "markdown",
   "source": [
    "## 🔹 Paso 27: Registrar modelo en `admin.py`\n",
    "\n",
    "En `app_blog/admin.py`:\n",
    "\n",
    "```python\n",
    "from django.contrib import admin\n",
    "from .models import Publicacion\n",
    "\n",
    "admin.site.register(Publicacion)\n",
    "```"
   ],
   "metadata": {}
  },
  {
   "cell_type": "markdown",
   "source": [
    "## 🔹 Paso 28: Crear superusuario\n",
    "\n",
    "```bash\n",
    "python manage.py createsuperuser\n",
    "```\n",
    "\n",
    "Ingresa:\n",
    "- **Username**: `admin`\n",
    "- **Email**: `elisa@gmail.com`\n",
    "- **Password**: `admin`\n",
    "- **Confirm**: `admin`"
   ],
   "metadata": {}
  },
  {
   "cell_type": "markdown",
   "source": [
    "## 🔹 Paso 29: Ejecutar el servidor\n",
    "\n",
    "```bash\n",
    "python manage.py runserver\n",
    "```\n",
    "\n",
    "Ve a `http://127.0.0.1:8000/admin` e inicia sesión."
   ],
   "metadata": {}
  },
  {
   "cell_type": "markdown",
   "source": [
    "## 🔹 Paso 30: Detener el servidor\n",
    "\n",
    "```\n",
    "Ctrl + C\n",
    "```"
   ],
   "metadata": {}
  },
  {
   "cell_type": "markdown",
   "source": [
    "## 🔹 Paso 31: Crear carpeta `templates` en `app_blog`\n",
    "\n",
    "Dentro de `app_blog`, crea una carpeta llamada `templates`."
   ],
   "metadata": {}
  },
  {
   "cell_type": "markdown",
   "source": [
    "## 🔹 Paso 32: Crear subcarpeta `app_blog` dentro de `templates`\n",
    "\n",
    "Dentro de `templates`, crea otra carpeta: `app_blog`\n",
    "\n",
    "👉 Ruta final: `app_blog/templates/app_blog/`"
   ],
   "metadata": {}
  },
  {
   "cell_type": "markdown",
   "source": [
    "## 🔹 Paso 33: Crear `index.html`\n",
    "\n",
    "Crea `index.html` en `app_blog/templates/app_blog/`:\n",
    "\n",
    "```html\n",
    "<!DOCTYPE html>\n",
    "<html lang=\"es\">\n",
    "<head>\n",
    "    <meta charset=\"UTF-8\">\n",
    "    <title>Blog</title>\n",
    "</head>\n",
    "<body>\n",
    "    <h1>Entradas del blog</h1>\n",
    "    \n",
    "    <!-- Lista de publicaciones -->\n",
    "    <ul>\n",
    "        <!-- Recorre cada publicación -->\n",
    "        {% for publicacion in publicaciones %}\n",
    "            <li>\n",
    "                <strong>{{ publicacion.titulo }}</strong> \n",
    "                ({{ publicacion.fecha_de_creacion|date:\"d/m/Y\" }})\n",
    "            </li>\n",
    "        {% endfor %}\n",
    "    </ul>\n",
    "</body>\n",
    "</html>\n",
    "```"
   ],
   "metadata": {}
  },
  {
   "cell_type": "markdown",
   "source": [
    "## 🔹 Paso 34: Actualizar `views.py`\n",
    "\n",
    "Reemplaza el contenido de `app_blog/views.py`:\n",
    "\n",
    "```python\n",
    "from django.shortcuts import render\n",
    "from .models import Publicacion\n",
    "\n",
    "def index(request):\n",
    "    publicaciones = Publicacion.objects.all()\n",
    "    return render(request, 'app_blog/index.html', {'publicaciones': publicaciones})\n",
    "```"
   ],
   "metadata": {}
  },
  {
   "cell_type": "markdown",
   "source": [
    "## 🔹 Paso 35: Crear archivo `requirements.txt`\n",
    "\n",
    "```bash\n",
    "pip freeze > requirements.txt\n",
    "```\n",
    "\n",
    "📌 Guarda las dependencias del proyecto."
   ],
   "metadata": {}
  },
  {
   "cell_type": "markdown",
   "source": [
    "## 🔹 Paso 36: Ejecutar el servidor\n",
    "\n",
    "```bash\n",
    "python manage.py runserver\n",
    "```\n",
    "\n",
    "✅ ¡Tu blog está funcionando!"
   ],
   "metadata": {}
  },
  {
   "cell_type": "markdown",
   "source": [
    "## 🎉 ¡Felicidades!\n",
    "\n",
    "Has completado tu primer proyecto en Django.\n",
    "\n",
    "Ahora puedes:\n",
    "- Agregar más modelos.\n",
    "- Añadir estilos con CSS.\n",
    "- Crear formularios.\n",
    "\n",
    "📌 Sigue aprendiendo y construyendo."
   ],
   "metadata": {}
  }
 ],
 "metadata": {
  "kernelspec": {
   "display_name": "Python 3",
   "language": "python",
   "name": "python3"
  },
  "language_info": {
   "name": "python",
   "version": "3.10.0"
  }
 },
 "nbformat": 4,
 "nbformat_minor": 5
}
